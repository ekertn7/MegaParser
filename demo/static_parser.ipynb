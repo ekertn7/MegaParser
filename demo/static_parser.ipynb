{
 "cells": [
  {
   "cell_type": "markdown",
   "metadata": {},
   "source": [
    "# Демо статического парсера\n",
    "\n",
    "[инструкция](../documentation/users/static_parser.md) по работе со статическим парсером"
   ]
  },
  {
   "cell_type": "code",
   "execution_count": 1,
   "metadata": {},
   "outputs": [],
   "source": [
    "import sys\n",
    "sys.path.append('/Users/ekertn7/Downloads/Projects/SberMegaParser')\n",
    "from SberMegaParser import StaticParser\n",
    "from SberMegaParser import generate_user_agent, UserAgentBrowsers, UserAgentOperatingSystems, UserAgentPlatforms\n",
    "from SberMegaParser import extract_cookies"
   ]
  },
  {
   "cell_type": "markdown",
   "metadata": {},
   "source": [
    "### Инициализация статического парсера"
   ]
  },
  {
   "cell_type": "code",
   "execution_count": 4,
   "metadata": {},
   "outputs": [],
   "source": [
    "parser = StaticParser(\n",
    "    user_agent = generate_user_agent(\n",
    "        browsers=[UserAgentBrowsers.CHROME, UserAgentBrowsers.FIREFOX],\n",
    "        operating_systems=UserAgentOperatingSystems.WINDOWS,\n",
    "        platforms=UserAgentPlatforms.PC\n",
    "    ), # если сайт не пускает вас, можно подменить\n",
    "       # свой user agent с помощью такой функции,\n",
    "       # при этом параметры указывать не обязательно,\n",
    "       # они нужны только чтобы сузить варианты\n",
    "       # рандомизации user agents\n",
    "    cookies = \\\n",
    "        {\n",
    "            'name': 'PHPSESSID', 'value': '3fb1a4ea712cb111ee523558d03579be',\n",
    "            'path': '/', 'domain': 'whatmyuseragent.com', 'secure': False,\n",
    "            'httpOnly': False, 'sameSite': 'None'\n",
    "        }\n",
    ")"
   ]
  },
  {
   "cell_type": "markdown",
   "metadata": {},
   "source": [
    "### Запуск статического парсера"
   ]
  },
  {
   "cell_type": "code",
   "execution_count": 5,
   "metadata": {},
   "outputs": [
    {
     "data": {
      "text/plain": [
       "'Mozilla/5.0 (Windows NT 10.0; Win64; x64) AppleWebKit/537.36 (KHTML, like Gecko) Chrome/122.0.0.0 Safari/537.36'"
      ]
     },
     "execution_count": 5,
     "metadata": {},
     "output_type": "execute_result"
    }
   ],
   "source": [
    "# посмотрим на свой user agent\n",
    "html = parser.get_html('https://whatmyuseragent.com', timeout=None)\n",
    "html.find('h5', {'id': 'ua'}).text\n",
    "# от отличается от того, что установлен изначально у вас на компьютере\n",
    "# можно проверить это открыв рядом окно своего браузера"
   ]
  },
  {
   "cell_type": "code",
   "execution_count": 15,
   "metadata": {},
   "outputs": [],
   "source": [
    "parser.stop_session()"
   ]
  },
  {
   "cell_type": "code",
   "execution_count": 14,
   "metadata": {},
   "outputs": [
    {
     "data": {
      "text/plain": [
       "{'PHPSESSID': 'ccce4f8b30017f93a64425cdad9b916c'}"
      ]
     },
     "execution_count": 14,
     "metadata": {},
     "output_type": "execute_result"
    }
   ],
   "source": [
    "extract_cookies(parser)"
   ]
  },
  {
   "cell_type": "code",
   "execution_count": 27,
   "metadata": {},
   "outputs": [
    {
     "ename": "TypeError",
     "evalue": "'module' object is not iterable",
     "output_type": "error",
     "traceback": [
      "\u001b[0;31m---------------------------------------------------------------------------\u001b[0m",
      "\u001b[0;31mTypeError\u001b[0m                                 Traceback (most recent call last)",
      "Cell \u001b[0;32mIn[27], line 1\u001b[0m\n\u001b[0;32m----> 1\u001b[0m \u001b[43mrequests\u001b[49m\u001b[38;5;241;43m.\u001b[39;49m\u001b[43mutils\u001b[49m\u001b[38;5;241;43m.\u001b[39;49m\u001b[43mdict_from_cookiejar\u001b[49m\u001b[43m(\u001b[49m\u001b[43mparser\u001b[49m\u001b[38;5;241;43m.\u001b[39;49m\u001b[43m_StaticParser__parser\u001b[49m\u001b[38;5;241;43m.\u001b[39;49m\u001b[43mcookies\u001b[49m\u001b[43m)\u001b[49m\n",
      "File \u001b[0;32m/opt/homebrew/lib/python3.11/site-packages/requests/utils.py:466\u001b[0m, in \u001b[0;36mdict_from_cookiejar\u001b[0;34m(cj)\u001b[0m\n\u001b[1;32m    458\u001b[0m \u001b[38;5;250m\u001b[39m\u001b[38;5;124;03m\"\"\"Returns a key/value dictionary from a CookieJar.\u001b[39;00m\n\u001b[1;32m    459\u001b[0m \n\u001b[1;32m    460\u001b[0m \u001b[38;5;124;03m:param cj: CookieJar object to extract cookies from.\u001b[39;00m\n\u001b[1;32m    461\u001b[0m \u001b[38;5;124;03m:rtype: dict\u001b[39;00m\n\u001b[1;32m    462\u001b[0m \u001b[38;5;124;03m\"\"\"\u001b[39;00m\n\u001b[1;32m    464\u001b[0m cookie_dict \u001b[38;5;241m=\u001b[39m {}\n\u001b[0;32m--> 466\u001b[0m \u001b[38;5;28;01mfor\u001b[39;00m cookie \u001b[38;5;129;01min\u001b[39;00m cj:\n\u001b[1;32m    467\u001b[0m     cookie_dict[cookie\u001b[38;5;241m.\u001b[39mname] \u001b[38;5;241m=\u001b[39m cookie\u001b[38;5;241m.\u001b[39mvalue\n\u001b[1;32m    469\u001b[0m \u001b[38;5;28;01mreturn\u001b[39;00m cookie_dict\n",
      "\u001b[0;31mTypeError\u001b[0m: 'module' object is not iterable"
     ]
    }
   ],
   "source": [
    "requests.utils.dict_from_cookiejar(parser._StaticParser__parser.cookies)"
   ]
  },
  {
   "cell_type": "code",
   "execution_count": 18,
   "metadata": {},
   "outputs": [
    {
     "data": {
      "text/plain": [
       "<module 'requests.cookies' from '/opt/homebrew/lib/python3.11/site-packages/requests/cookies.py'>"
      ]
     },
     "execution_count": 18,
     "metadata": {},
     "output_type": "execute_result"
    }
   ],
   "source": [
    "parser._StaticParser__parser.cookies"
   ]
  },
  {
   "cell_type": "code",
   "execution_count": 4,
   "metadata": {},
   "outputs": [
    {
     "data": {
      "text/plain": [
       "'#fff'"
      ]
     },
     "execution_count": 4,
     "metadata": {},
     "output_type": "execute_result"
    }
   ],
   "source": [
    "html.find('body')['bgcolor']"
   ]
  },
  {
   "cell_type": "code",
   "execution_count": null,
   "metadata": {},
   "outputs": [],
   "source": []
  }
 ],
 "metadata": {
  "kernelspec": {
   "display_name": "Python 3",
   "language": "python",
   "name": "python3"
  },
  "language_info": {
   "codemirror_mode": {
    "name": "ipython",
    "version": 3
   },
   "file_extension": ".py",
   "mimetype": "text/x-python",
   "name": "python",
   "nbconvert_exporter": "python",
   "pygments_lexer": "ipython3",
   "version": "3.11.9"
  }
 },
 "nbformat": 4,
 "nbformat_minor": 2
}
