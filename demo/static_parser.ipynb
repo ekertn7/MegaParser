{
 "cells": [
  {
   "cell_type": "markdown",
   "metadata": {},
   "source": [
    "# Демо статического парсера\n",
    "\n",
    "[инструкция](../documentation/users/static_parser.md) по работе со статическим парсером"
   ]
  },
  {
   "cell_type": "code",
   "execution_count": 1,
   "metadata": {},
   "outputs": [],
   "source": [
    "import sys\n",
    "sys.path.append('/Users/ekertn7/Downloads/Projects/SberMegaParser')\n",
    "from SberMegaParser import StaticParser\n",
    "from SberMegaParser import generate_user_agent, UserAgentBrowsers, UserAgentOperatingSystems, UserAgentPlatforms"
   ]
  },
  {
   "cell_type": "markdown",
   "metadata": {},
   "source": [
    "### Инициализация статического парсера"
   ]
  },
  {
   "cell_type": "code",
   "execution_count": 7,
   "metadata": {},
   "outputs": [],
   "source": [
    "parser = StaticParser(\n",
    "    user_agent = generate_user_agent(\n",
    "        browsers=[UserAgentBrowsers.CHROME, UserAgentBrowsers.FIREFOX],\n",
    "        operating_systems=UserAgentOperatingSystems.WINDOWS,\n",
    "        platforms=UserAgentPlatforms.PC\n",
    "    ),                          # если сайт не пускает вас, можно подменить\n",
    "                                # свой user agent с помощью такой функции,\n",
    "                                # при этом параметры указывать не обязательно,\n",
    "                                # они нужны только чтобы сузить варианты\n",
    "                                # рандомизации user agents\n",
    ")"
   ]
  },
  {
   "cell_type": "markdown",
   "metadata": {},
   "source": [
    "### Запуск статического парсера"
   ]
  },
  {
   "cell_type": "code",
   "execution_count": 10,
   "metadata": {},
   "outputs": [
    {
     "data": {
      "text/plain": [
       "'Mozilla/5.0 (Windows NT 10.0; Win64; x64; rv:123.0) Gecko/20100101 Firefox/123.0'"
      ]
     },
     "execution_count": 10,
     "metadata": {},
     "output_type": "execute_result"
    }
   ],
   "source": [
    "# посмотрим на свой user agent\n",
    "html = parser.get_html('https://whatmyuseragent.com')\n",
    "html.find('h5', {'id': 'ua'}).text\n",
    "# от отличается от того, что установлен изначально у вас на компьютере\n",
    "# можно проверить это открыв рядом окно своего браузера"
   ]
  },
  {
   "cell_type": "code",
   "execution_count": 4,
   "metadata": {},
   "outputs": [
    {
     "data": {
      "text/plain": [
       "'#fff'"
      ]
     },
     "execution_count": 4,
     "metadata": {},
     "output_type": "execute_result"
    }
   ],
   "source": [
    "html.find('body')['bgcolor']"
   ]
  },
  {
   "cell_type": "code",
   "execution_count": null,
   "metadata": {},
   "outputs": [],
   "source": []
  }
 ],
 "metadata": {
  "kernelspec": {
   "display_name": "Python 3",
   "language": "python",
   "name": "python3"
  },
  "language_info": {
   "codemirror_mode": {
    "name": "ipython",
    "version": 3
   },
   "file_extension": ".py",
   "mimetype": "text/x-python",
   "name": "python",
   "nbconvert_exporter": "python",
   "pygments_lexer": "ipython3",
   "version": "3.11.9"
  }
 },
 "nbformat": 4,
 "nbformat_minor": 2
}
