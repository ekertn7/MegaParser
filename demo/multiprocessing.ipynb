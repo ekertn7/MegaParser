{
 "cells": [
  {
   "cell_type": "code",
   "execution_count": null,
   "id": "7fe8903d-f88c-4446-adff-19baae94d0c1",
   "metadata": {},
   "outputs": [],
   "source": [
    "import sys\n",
    "sys.path.append('/home/metalcorefun/PycharmProjects/sber_mega_parser')\n",
    "from SberMegaParser import multi_parser, Parser\n",
    "from time import sleep"
   ]
  },
  {
   "cell_type": "code",
   "execution_count": null,
   "id": "a96761d5-f58a-43c8-9a48-c712c5300dfa",
   "metadata": {},
   "outputs": [],
   "source": [
    "def some_action(parser:Parser):\n",
    "    parser.open_connection()\n",
    "    parser.get('http://localhost:8888')\n",
    "    #parser.close_connection()"
   ]
  },
  {
   "cell_type": "code",
   "execution_count": null,
   "id": "30d30c73-0594-44e4-a016-5ade67c129b5",
   "metadata": {},
   "outputs": [],
   "source": [
    "multi_parser(dataframe_input_path = None,\n",
    "            dataframe_output_path = '/home/metalcorefun/something.csv',\n",
    "            logic = some_action,\n",
    "            is_dynamic = True,\n",
    "            threads_count = 3)"
   ]
  }
 ],
 "metadata": {
  "kernelspec": {
   "display_name": "Python 3 (ipykernel)",
   "language": "python",
   "name": "python3"
  },
  "language_info": {
   "codemirror_mode": {
    "name": "ipython",
    "version": 3
   },
   "file_extension": ".py",
   "mimetype": "text/x-python",
   "name": "python",
   "nbconvert_exporter": "python",
   "pygments_lexer": "ipython3",
   "version": "3.12.4"
  }
 },
 "nbformat": 4,
 "nbformat_minor": 5
}
