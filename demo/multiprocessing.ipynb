{
 "cells": [
  {
   "cell_type": "code",
   "execution_count": 1,
   "id": "7fe8903d-f88c-4446-adff-19baae94d0c1",
   "metadata": {},
   "outputs": [],
   "source": [
    "import sys\n",
    "sys.path.append('/home/metalcorefun/PycharmProjects/sber_mega_parser')\n",
    "from SberMegaParser import Parser\n",
    "from SberMegaParser.tools.performance.multi_parsing import multi_parser\n",
    "from time import sleep"
   ]
  },
  {
   "cell_type": "code",
   "execution_count": 2,
   "id": "b011008b-15b2-4e04-9f1d-a0f4f23a06f8",
   "metadata": {},
   "outputs": [],
   "source": [
    "# Инициализация входных данных\n",
    "# Нужно сделать csv с такой структурой\n",
    "# и все будет работать as planned\n",
    "# \n",
    "# url\n",
    "# https://localhost:8888\n",
    "# https://127.0.0.1:8888\n",
    "# https://localhost:8888"
   ]
  },
  {
   "cell_type": "code",
   "execution_count": 3,
   "id": "a96761d5-f58a-43c8-9a48-c712c5300dfa",
   "metadata": {},
   "outputs": [],
   "source": [
    "def handle_urls_list(parser:Parser, urls):\n",
    "    parser.open_connection()\n",
    "    for url in urls['url']:\n",
    "        parser.get(url)\n",
    "        sleep(2000)\n",
    "    return pd.DataFrame({'col1': [1, 2], 'col2': [3, 4]})\n",
    "    #parser.close_connection()"
   ]
  },
  {
   "cell_type": "code",
   "execution_count": null,
   "id": "30d30c73-0594-44e4-a016-5ade67c129b5",
   "metadata": {},
   "outputs": [],
   "source": [
    "multi_parser(dataframe_input_path = '/home/metalcorefun/PycharmProjects/sber_mega_parser/demo/urls_test.csv',\n",
    "            dataframe_output_path = '/home/metalcorefun/something.csv',\n",
    "            logic = handle_urls_list,\n",
    "            is_dynamic = True,\n",
    "            threads_count = 3)"
   ]
  },
  {
   "cell_type": "code",
   "execution_count": null,
   "id": "5f6e3ccb-40cc-4d34-b866-77edb5454887",
   "metadata": {},
   "outputs": [],
   "source": []
  }
 ],
 "metadata": {
  "kernelspec": {
   "display_name": "Python 3 (ipykernel)",
   "language": "python",
   "name": "python3"
  },
  "language_info": {
   "codemirror_mode": {
    "name": "ipython",
    "version": 3
   },
   "file_extension": ".py",
   "mimetype": "text/x-python",
   "name": "python",
   "nbconvert_exporter": "python",
   "pygments_lexer": "ipython3",
   "version": "3.12.4"
  }
 },
 "nbformat": 4,
 "nbformat_minor": 5
}
