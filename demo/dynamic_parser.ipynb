{
 "cells": [
  {
   "cell_type": "markdown",
   "metadata": {},
   "source": [
    "# Демо динамического парсера\n",
    "\n",
    "[инструкция](../documentation/users/dynamic_parser.md) по работе с динамическим парсером"
   ]
  },
  {
   "cell_type": "code",
   "execution_count": 1,
   "metadata": {},
   "outputs": [],
   "source": [
    "# импорты\n",
    "import sys\n",
    "sys.path.append('/Users/ekertn7/Downloads/Projects/SberMegaParser')"
   ]
  },
  {
   "cell_type": "code",
   "execution_count": 4,
   "metadata": {},
   "outputs": [],
   "source": [
    "from SberMegaParser import DynamicParser, DynamicParserType, DynamicParserKeys\n",
    "from SberMegaParser import generate_user_agent, UserAgentBrowsers, UserAgentOperatingSystems, UserAgentPlatforms\n",
    "from SberMegaParser import DynamicParserProxy"
   ]
  },
  {
   "cell_type": "markdown",
   "metadata": {},
   "source": [
    "### Инициализация динамического парсера"
   ]
  },
  {
   "cell_type": "code",
   "execution_count": 3,
   "metadata": {},
   "outputs": [],
   "source": [
    "parser = DynamicParser(\n",
    "    DynamicParserType.firefox,  # выбираем firefox в качестве браузера\n",
    "    window_width=900,\n",
    "    window_height=900,\n",
    "    headless=False,             # можно установить это значение = True и тогда\n",
    "                                # браузер запустится в скрытом режиме, вы не\n",
    "                                # увидите окошко, но все будет работать\n",
    "    driver_path='/geckodriver', # можно указать свой путь для вебдрайвера,\n",
    "                                # однако если вебдрайвер находится в корне\n",
    "                                # проекта, то все будет работать и без указания\n",
    "                                # этого параметра\n",
    "    user_agent = generate_user_agent(\n",
    "        browsers=[UserAgentBrowsers.CHROME, UserAgentBrowsers.FIREFOX],\n",
    "        operating_systems=UserAgentOperatingSystems.WINDOWS,\n",
    "        platforms=UserAgentPlatforms.PC\n",
    "    ),                          # если сайт не пускает вас, можно подменить\n",
    "                                # свой user agent с помощью такой функции,\n",
    "                                # при этом параметры указывать не обязательно,\n",
    "                                # они нужны только чтобы сузить варианты\n",
    "                                # рандомизации user agents\n",
    "    cookies = {\n",
    "        'name': 'PHPSESSID', 'value': '4cfcc2d0af4c3a0a165242691ace5adb',\n",
    "        'path': '/', 'domain': 'whatmyuseragent.com', 'secure': False,\n",
    "        'httpOnly': False, 'sameSite': 'None'\n",
    "    },                          # можно также передавать cookies в формате\n",
    "                                # словаря или списка словарей\n",
    "    proxy = DynamicParserProxy(host='195.241.3.23', port='8500')\n",
    "                                # при необходимости можно указать proxy сервер\n",
    ")"
   ]
  },
  {
   "cell_type": "code",
   "execution_count": 4,
   "metadata": {},
   "outputs": [],
   "source": [
    "# откроем соединение\n",
    "parser.open_connection()"
   ]
  },
  {
   "cell_type": "code",
   "execution_count": 5,
   "metadata": {},
   "outputs": [],
   "source": [
    "# посмотрим на свой user agent\n",
    "parser.get('https://whatmyuseragent.com')\n",
    "# от отличается от того, что установлен изначально у вас на компьютере\n",
    "# можно проверить это открыв рядом окно своего браузера с тем же сайтом"
   ]
  },
  {
   "cell_type": "code",
   "execution_count": 6,
   "metadata": {},
   "outputs": [
    {
     "data": {
      "text/plain": [
       "[{'name': 'PHPSESSID',\n",
       "  'value': 'c00783a2e6a2bd87bd098a819c2eba88',\n",
       "  'path': '/',\n",
       "  'domain': 'whatmyuseragent.com',\n",
       "  'secure': False,\n",
       "  'httpOnly': False,\n",
       "  'sameSite': 'None'},\n",
       " {'name': '_ga_Z9VC12D3Q7',\n",
       "  'value': 'GS1.1.1720005581.1.0.1720005581.0.0.0',\n",
       "  'path': '/',\n",
       "  'domain': '.whatmyuseragent.com',\n",
       "  'secure': False,\n",
       "  'httpOnly': False,\n",
       "  'expiry': 1783077581,\n",
       "  'sameSite': 'None'},\n",
       " {'name': '_ga',\n",
       "  'value': 'GA1.1.198733899.1720005581',\n",
       "  'path': '/',\n",
       "  'domain': '.whatmyuseragent.com',\n",
       "  'secure': False,\n",
       "  'httpOnly': False,\n",
       "  'expiry': 1783077581,\n",
       "  'sameSite': 'None'},\n",
       " {'name': '__gads',\n",
       "  'value': 'ID=c68031fd45042dbe:T=1720005581:RT=1720005581:S=ALNI_MYO_N7_unwzP8J4unaS6KueeniZ1A',\n",
       "  'path': '/',\n",
       "  'domain': '.whatmyuseragent.com',\n",
       "  'secure': True,\n",
       "  'httpOnly': False,\n",
       "  'expiry': 1753701581,\n",
       "  'sameSite': 'None'},\n",
       " {'name': '__gpi',\n",
       "  'value': 'UID=00000e705f6d87d2:T=1720005581:RT=1720005581:S=ALNI_MbVzwL4oRb1yYc6cYbKHDC6pI7UsQ',\n",
       "  'path': '/',\n",
       "  'domain': '.whatmyuseragent.com',\n",
       "  'secure': True,\n",
       "  'httpOnly': False,\n",
       "  'expiry': 1753701581,\n",
       "  'sameSite': 'None'},\n",
       " {'name': '__eoi',\n",
       "  'value': 'ID=a578f4cb4ccaad21:T=1720005581:RT=1720005581:S=AA-AfjawcnExO7yoSCMM3xLj-JQT',\n",
       "  'path': '/',\n",
       "  'domain': '.whatmyuseragent.com',\n",
       "  'secure': True,\n",
       "  'httpOnly': False,\n",
       "  'expiry': 1735557581,\n",
       "  'sameSite': 'None'},\n",
       " {'name': 'FCNEC',\n",
       "  'value': '%5B%5B%22AKsRol8glxKXJiq-qERVwqBo4CtxXmK_rTIJiajxf_RJYWCAcGzAsL5A4V2TAWKDEGPEjFFabo9z-WX1lVy2s7cXa66w7yj2gosBnFEL2hMxB0cnhKMDn5r7tm5U3ZIwqCDs2y0Cv6gufGjOqHayWJw4bizg8mHC1g%3D%3D%22%5D%5D',\n",
       "  'path': '/',\n",
       "  'domain': '.whatmyuseragent.com',\n",
       "  'secure': False,\n",
       "  'httpOnly': False,\n",
       "  'expiry': 1751541583,\n",
       "  'sameSite': 'None'}]"
      ]
     },
     "execution_count": 6,
     "metadata": {},
     "output_type": "execute_result"
    }
   ],
   "source": [
    "# посмотрим cookies\n",
    "parser.extract_cookies()"
   ]
  },
  {
   "cell_type": "code",
   "execution_count": 7,
   "metadata": {},
   "outputs": [
    {
     "ename": "DriverAlreadyInitializedException",
     "evalue": "Web driver object is already initialized! Please, close old connection using close_connection method and try again!",
     "output_type": "error",
     "traceback": [
      "\u001b[0;31m---------------------------------------------------------------------------\u001b[0m",
      "\u001b[0;31mDriverAlreadyInitializedException\u001b[0m         Traceback (most recent call last)",
      "Cell \u001b[0;32mIn[7], line 2\u001b[0m\n\u001b[1;32m      1\u001b[0m \u001b[38;5;66;03m# откроем соединение еще раз и получим ошибку\u001b[39;00m\n\u001b[0;32m----> 2\u001b[0m \u001b[43mparser\u001b[49m\u001b[38;5;241;43m.\u001b[39;49m\u001b[43mopen_connection\u001b[49m\u001b[43m(\u001b[49m\u001b[43m)\u001b[49m\n\u001b[1;32m      3\u001b[0m \u001b[38;5;66;03m# читаем ошибку, там написано в чем проблема\u001b[39;00m\n\u001b[1;32m      4\u001b[0m \u001b[38;5;66;03m# в данном случае мы попытались открыть соединение, которое ранее уже было\u001b[39;00m\n\u001b[1;32m      5\u001b[0m \u001b[38;5;66;03m# открыто, мы не можем так делать\u001b[39;00m\n\u001b[1;32m      6\u001b[0m \u001b[38;5;66;03m# нам нужно либо создать объект DynamicParser еще раз и в нем уже открыть\u001b[39;00m\n\u001b[1;32m      7\u001b[0m \u001b[38;5;66;03m# новое соединение, либо закрыть текущее соединение и открыть его заново\u001b[39;00m\n",
      "File \u001b[0;32m~/Downloads/Projects/SberMegaParser/SberMegaParser/core/dynamic_parser/dynamic_parser.py:77\u001b[0m, in \u001b[0;36mDynamicParser.open_connection\u001b[0;34m(self)\u001b[0m\n\u001b[1;32m     75\u001b[0m \u001b[38;5;250m\u001b[39m\u001b[38;5;124;03m\"\"\"Create web driver object.\"\"\"\u001b[39;00m\n\u001b[1;32m     76\u001b[0m \u001b[38;5;28;01mif\u001b[39;00m \u001b[38;5;28mself\u001b[39m\u001b[38;5;241m.\u001b[39m__driver \u001b[38;5;129;01mis\u001b[39;00m \u001b[38;5;129;01mnot\u001b[39;00m \u001b[38;5;28;01mNone\u001b[39;00m:\n\u001b[0;32m---> 77\u001b[0m     \u001b[38;5;28;01mraise\u001b[39;00m DriverAlreadyInitializedException()\n\u001b[1;32m     78\u001b[0m \u001b[38;5;28;01mmatch\u001b[39;00m \u001b[38;5;28mtype\u001b[39m(\u001b[38;5;28mself\u001b[39m\u001b[38;5;241m.\u001b[39mparser_type):\n\u001b[1;32m     79\u001b[0m     \u001b[38;5;28;01mcase\u001b[39;00m DynamicParserType\u001b[38;5;241m.\u001b[39mchrome:\n",
      "\u001b[0;31mDriverAlreadyInitializedException\u001b[0m: Web driver object is already initialized! Please, close old connection using close_connection method and try again!"
     ]
    }
   ],
   "source": [
    "# откроем соединение еще раз и получим ошибку\n",
    "parser.open_connection()\n",
    "# читаем ошибку, там написано в чем проблема\n",
    "# в данном случае мы попытались открыть соединение, которое ранее уже было\n",
    "# открыто, мы не можем так делать\n",
    "# нам нужно либо создать объект DynamicParser еще раз и в нем уже открыть\n",
    "# новое соединение, либо закрыть текущее соединение и открыть его заново"
   ]
  },
  {
   "cell_type": "code",
   "execution_count": 23,
   "metadata": {},
   "outputs": [],
   "source": [
    "# закроем текущее соединение\n",
    "parser.close_connection()"
   ]
  },
  {
   "cell_type": "code",
   "execution_count": 21,
   "metadata": {},
   "outputs": [],
   "source": [
    "# запускаем парсер с минимальными настройками\n",
    "parser = DynamicParser(\n",
    "    DynamicParserType.firefox,\n",
    "    window_width=1020, window_height=900,\n",
    "    user_agent = generate_user_agent(\n",
    "        browsers=[UserAgentBrowsers.CHROME, UserAgentBrowsers.FIREFOX],\n",
    "        operating_systems=UserAgentOperatingSystems.WINDOWS,\n",
    "        platforms=UserAgentPlatforms.PC\n",
    "    )\n",
    ")\n",
    "parser.open_connection()"
   ]
  },
  {
   "cell_type": "code",
   "execution_count": 22,
   "metadata": {},
   "outputs": [],
   "source": [
    "# откроем сайт irecommend для тестирования\n",
    "parser.get('https://irecommend.ru')"
   ]
  },
  {
   "cell_type": "code",
   "execution_count": 11,
   "metadata": {},
   "outputs": [
    {
     "data": {
      "text/plain": [
       "['b9fcabc1-efcb-4f92-b29e-1d984399dc4a']"
      ]
     },
     "execution_count": 11,
     "metadata": {},
     "output_type": "execute_result"
    }
   ],
   "source": [
    "# просмотр всех активных вкладок/окон\n",
    "active_windows = parser.windows()\n",
    "active_windows"
   ]
  },
  {
   "cell_type": "code",
   "execution_count": 12,
   "metadata": {},
   "outputs": [],
   "source": [
    "# переключение на одну из вкладок/окон\n",
    "parser.switch_to_window(active_windows[0])"
   ]
  },
  {
   "cell_type": "code",
   "execution_count": 13,
   "metadata": {},
   "outputs": [],
   "source": [
    "logo_xpath = '//img[contains(@class, \"site-logo\")]'"
   ]
  },
  {
   "cell_type": "code",
   "execution_count": 14,
   "metadata": {},
   "outputs": [],
   "source": [
    "# ожидаем, что элемент прогрузился и находится на странице\n",
    "# если все ок, то функция просто выполнится и не будет сообщения об ошибке\n",
    "# если нет, то будет выведено сообщение об ошибке\n",
    "parser.wait_until_element_located(logo_xpath, waiting_time=10)"
   ]
  },
  {
   "cell_type": "code",
   "execution_count": 15,
   "metadata": {},
   "outputs": [],
   "source": [
    "# ожидаем, что элемент прогрузился, находится на странице и его видно\n",
    "# если все ок, то функция просто выполнится и не будет сообщения об ошибке\n",
    "# если нет, то будет выведено сообщение об ошибке\n",
    "parser.wait_until_element_visible(logo_xpath)"
   ]
  },
  {
   "cell_type": "code",
   "execution_count": 16,
   "metadata": {},
   "outputs": [
    {
     "name": "stdout",
     "output_type": "stream",
     "text": [
      "Красота и здоровье\n",
      "Детское\n",
      "Техника\n",
      "Туризм\n",
      "Животные\n",
      "Кино\n",
      "Книги\n",
      "Продукты\n",
      "Посуда\n",
      "Авто\n",
      "Другие\n"
     ]
    }
   ],
   "source": [
    "# поиск множества элементов на странице\n",
    "menu_buttons_xpath = '//div[contains(@class, \"IrecUiNavbar\")]//span'\n",
    "parser.wait_until_element_located(menu_buttons_xpath)\n",
    "menu_buttons = parser.find_all(menu_buttons_xpath)\n",
    "for btn in menu_buttons:\n",
    "    print(btn.text.strip())"
   ]
  },
  {
   "cell_type": "code",
   "execution_count": 17,
   "metadata": {},
   "outputs": [
    {
     "data": {
      "text/plain": [
       "True"
      ]
     },
     "execution_count": 17,
     "metadata": {},
     "output_type": "execute_result"
    }
   ],
   "source": [
    "parser.click(menu_buttons[-1], attempts_number=42)"
   ]
  },
  {
   "cell_type": "code",
   "execution_count": 18,
   "metadata": {},
   "outputs": [
    {
     "name": "stdout",
     "output_type": "stream",
     "text": [
      "Банки и банковские продукты 80\n"
     ]
    }
   ],
   "source": [
    "categories_xpath = '//div[@class=\"siteCategoriesTree\"]//a'\n",
    "categories = parser.find_all(categories_xpath)\n",
    "for i, btn in enumerate(categories):\n",
    "    if 'банк' in btn.text.lower():\n",
    "        print(btn.text, i)"
   ]
  },
  {
   "cell_type": "code",
   "execution_count": 19,
   "metadata": {},
   "outputs": [
    {
     "data": {
      "text/plain": [
       "True"
      ]
     },
     "execution_count": 19,
     "metadata": {},
     "output_type": "execute_result"
    }
   ],
   "source": [
    "parser.click(categories[80])"
   ]
  },
  {
   "cell_type": "code",
   "execution_count": null,
   "metadata": {},
   "outputs": [],
   "source": [
    "# ввод символов в форму\n",
    "textarea_xpath = '//div[contains(@class, \"TextInput\")]/input[@placeholder=\"Поиск\"]'\n",
    "parser.wait_until_element_located(textarea_xpath)\n",
    "textarea = parser.find(textarea_xpath)\n",
    "parser.click(textarea)\n",
    "parser.write(textarea, 'мегамаркет ', clear=True)\n",
    "# параметр clear = True очищает поле от ранее введенного контента\n",
    "# если что-то пошло не так и поле не очистилось, то можно сделать, например,\n",
    "# так: parser.write(textarea, DynamicParserKeys.BACKSPACE*100)\n",
    "parser.write(textarea, 'приложение ')\n",
    "parser.write(textarea, DynamicParserKeys.ARROW_D)\n",
    "# обратите внимание на дополнительные задержки, иногда они необходимы для\n",
    "# корректной работы динамического сайта, их подбирают эмпирическим путем\n",
    "# (методом проб и ошибок)\n",
    "parser.write(textarea, DynamicParserKeys.ENTER, sleep_range=(1400, 1600))"
   ]
  },
  {
   "cell_type": "code",
   "execution_count": null,
   "metadata": {},
   "outputs": [],
   "source": [
    "html = parser.get_html()\n",
    "for element in html.find('ul', {'class': 'list-comments'}).find_all('li'):\n",
    "    print(\n",
    "        element.find('div', {'class': 'authorName'}).text.strip(), ':',\n",
    "        element.find('div', {'class': 'reviewTitle'}).text.strip()[:50],\n",
    "        '...'\n",
    "    )"
   ]
  },
  {
   "cell_type": "code",
   "execution_count": 20,
   "metadata": {},
   "outputs": [],
   "source": [
    "# закроем текущее соединение\n",
    "parser.close_connection()"
   ]
  },
  {
   "cell_type": "code",
   "execution_count": null,
   "metadata": {},
   "outputs": [],
   "source": []
  },
  {
   "cell_type": "code",
   "execution_count": null,
   "metadata": {},
   "outputs": [],
   "source": []
  },
  {
   "cell_type": "code",
   "execution_count": null,
   "metadata": {},
   "outputs": [],
   "source": []
  },
  {
   "cell_type": "code",
   "execution_count": null,
   "metadata": {},
   "outputs": [],
   "source": []
  },
  {
   "cell_type": "code",
   "execution_count": null,
   "metadata": {},
   "outputs": [],
   "source": []
  },
  {
   "cell_type": "code",
   "execution_count": null,
   "metadata": {},
   "outputs": [],
   "source": [
    "# откроем сайт google для тестирования\n",
    "parser.get('https://google.com')"
   ]
  },
  {
   "cell_type": "code",
   "execution_count": null,
   "metadata": {},
   "outputs": [],
   "source": [
    "# ожидаем, что элемент прогрузился и находится на странице\n",
    "# если все ок, то функция просто выполнится и не будет сообщения об ошибке\n",
    "# если нет, то будет выведено сообщение об ошибке\n",
    "parser.wait_until_element_located('//input[@class=\"RNmpXc\"]', waiting_time=10)"
   ]
  },
  {
   "cell_type": "code",
   "execution_count": null,
   "metadata": {},
   "outputs": [],
   "source": [
    "# ожидаем, что элемент прогрузился, находится на странице и его видно\n",
    "# если все ок, то функция просто выполнится и не будет сообщения об ошибке\n",
    "# если нет, то будет выведено сообщение об ошибке\n",
    "parser.wait_until_element_visible('//img[contains(@alt, \"Google\")]')"
   ]
  },
  {
   "cell_type": "code",
   "execution_count": null,
   "metadata": {},
   "outputs": [],
   "source": [
    "# поиск одного элемента на странице\n",
    "# возвращает объект элемента\n",
    "body = parser.find('//body')\n",
    "body"
   ]
  },
  {
   "cell_type": "code",
   "execution_count": null,
   "metadata": {},
   "outputs": [],
   "source": [
    "# получим значение аттрибута jsmodel блока body\n",
    "body.get_attribute('jsmodel')\n",
    "# получать эти значения может быть полезно, например, если нужно извлечь href\n",
    "# из ссылки, value из формы или дополнительную информацию объекта"
   ]
  },
  {
   "cell_type": "code",
   "execution_count": null,
   "metadata": {},
   "outputs": [],
   "source": [
    "# получим текст из блока body\n",
    "body.text"
   ]
  },
  {
   "cell_type": "code",
   "execution_count": null,
   "metadata": {},
   "outputs": [],
   "source": [
    "# поиск множества элементов на странице\n",
    "elements = parser.find_all('//input')\n",
    "elements"
   ]
  },
  {
   "cell_type": "code",
   "execution_count": null,
   "metadata": {},
   "outputs": [],
   "source": [
    "# просмотр всех активных вкладок/окон\n",
    "active_windows = parser.windows()\n",
    "active_windows"
   ]
  },
  {
   "cell_type": "code",
   "execution_count": null,
   "metadata": {},
   "outputs": [],
   "source": [
    "# переключение на одну из вкладок/окон\n",
    "parser.switch_to_window(active_windows[0])"
   ]
  },
  {
   "cell_type": "code",
   "execution_count": null,
   "metadata": {},
   "outputs": [],
   "source": [
    "# клик по элементу на странице\n",
    "# в данном случае кликаем на блок клавиатуры\n",
    "show_keyboard_button = parser.find('//span[@class=\"ly0Ckb\"]')\n",
    "parser.click(show_keyboard_button, attempts_number=42)"
   ]
  },
  {
   "cell_type": "code",
   "execution_count": null,
   "metadata": {},
   "outputs": [],
   "source": [
    "# ввод символов в форму\n",
    "# попробуем что-нибудь найти\n",
    "textarea = parser.find('//textarea[@title=\"Поиск\"]')\n",
    "parser.write(textarea, 'кто такой аудито ', clear=True)\n",
    "# параметр clear = True очищает поле от ранее введенного контента\n",
    "# если что-то пошло не так и поле не очистилось, то можно сделать, например,\n",
    "# так: parser.write(textarea, DynamicParserKeys.BACKSPACE*100)\n",
    "parser.write(textarea, DynamicParserKeys.ARROW_D)\n",
    "parser.write(textarea, ' подскажите')\n",
    "# обратите внимание на дополнительные задержки, иногда они необходимы для\n",
    "# корректной работы динамического сайта, их подбирают эмпирическим путем\n",
    "# (методом проб и ошибок)\n",
    "parser.write(textarea, DynamicParserKeys.ENTER, sleep_range=(1400, 1600))"
   ]
  },
  {
   "cell_type": "markdown",
   "metadata": {},
   "source": [
    "### Остановка динамического парсера"
   ]
  },
  {
   "cell_type": "code",
   "execution_count": null,
   "metadata": {},
   "outputs": [],
   "source": [
    "# закроем текущее соединение\n",
    "parser.close_connection()\n",
    "# при желании теперь можно еще раз открыть соединение"
   ]
  },
  {
   "cell_type": "code",
   "execution_count": null,
   "metadata": {},
   "outputs": [],
   "source": []
  }
 ],
 "metadata": {
  "kernelspec": {
   "display_name": "Python 3",
   "language": "python",
   "name": "python3"
  },
  "language_info": {
   "codemirror_mode": {
    "name": "ipython",
    "version": 3
   },
   "file_extension": ".py",
   "mimetype": "text/x-python",
   "name": "python",
   "nbconvert_exporter": "python",
   "pygments_lexer": "ipython3",
   "version": "3.11.9"
  }
 },
 "nbformat": 4,
 "nbformat_minor": 2
}
