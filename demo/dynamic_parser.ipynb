{
 "cells": [
  {
   "cell_type": "markdown",
   "metadata": {},
   "source": [
    "# Демо динамического парсера\n",
    "\n",
    "[инструкция](../documentation/users/dynamic_parser.md) по работе с динамическим парсером"
   ]
  },
  {
   "cell_type": "code",
   "execution_count": 23,
   "metadata": {},
   "outputs": [],
   "source": [
    "import sys\n",
    "sys.path.append('/Users/ekertn7/Downloads/Projects/SberMegaParser')\n",
    "from SberMegaParser import DynamicParser, DynamicParserType, DynamicParserKeys"
   ]
  },
  {
   "cell_type": "markdown",
   "metadata": {},
   "source": [
    "### Инициализация динамического парсера"
   ]
  },
  {
   "cell_type": "code",
   "execution_count": 24,
   "metadata": {},
   "outputs": [],
   "source": [
    "parser = DynamicParser(\n",
    "    DynamicParserType.firefox, # выбираем firefox в качестве браузера\n",
    "    window_width=300,\n",
    "    window_height=700,\n",
    "    headless=False,\n",
    "    driver_path='/geckodriver' # можно указать свой путь для вебдрайвера,\n",
    "                               # однако если вебдрайвер находится в корне проекта,\n",
    "                               # то все будет работать и без указания этого параметра\n",
    ")"
   ]
  },
  {
   "cell_type": "markdown",
   "metadata": {},
   "source": [
    "### Запуск динамического парсера"
   ]
  },
  {
   "cell_type": "code",
   "execution_count": 29,
   "metadata": {},
   "outputs": [],
   "source": [
    "parser.open_connection()"
   ]
  },
  {
   "cell_type": "code",
   "execution_count": 11,
   "metadata": {},
   "outputs": [],
   "source": [
    "parser.get('https://google.com')"
   ]
  },
  {
   "cell_type": "code",
   "execution_count": 12,
   "metadata": {},
   "outputs": [],
   "source": [
    "# ожидание того, что элемент прогрузился и находится на странице\n",
    "# если все ок, то функция просто выполнится и не будет сообщения об ошибке\n",
    "# если нет, то будет выведено сообщение об ошибке\n",
    "parser.wait_until_element_located('//input[@class=\"RNmpXc\"]')"
   ]
  },
  {
   "cell_type": "code",
   "execution_count": 13,
   "metadata": {},
   "outputs": [],
   "source": [
    "# ожидание того, что элемент прогрузился, находится на странице и его видно\n",
    "# если все ок, то функция просто выполнится и не будет сообщения об ошибке\n",
    "# если нет, то будет выведено сообщение об ошибке\n",
    "parser.wait_until_element_visible('//img[contains(@alt, \"Google\")]')"
   ]
  },
  {
   "cell_type": "code",
   "execution_count": 14,
   "metadata": {},
   "outputs": [
    {
     "data": {
      "text/plain": [
       "<selenium.webdriver.remote.webelement.WebElement (session=\"45345193-fe8d-46aa-9e8b-f4000d94d3ed\", element=\"64100b19-d5c3-4d0e-94db-55c3ca8e3c17\")>"
      ]
     },
     "execution_count": 14,
     "metadata": {},
     "output_type": "execute_result"
    }
   ],
   "source": [
    "# поиск одного элемента на странице\n",
    "# возвращает объект элемента или ошибку если элемент не найден\n",
    "body = parser.find('//body')\n",
    "body"
   ]
  },
  {
   "cell_type": "code",
   "execution_count": 15,
   "metadata": {},
   "outputs": [
    {
     "data": {
      "text/plain": [
       "'hspDDf '"
      ]
     },
     "execution_count": 15,
     "metadata": {},
     "output_type": "execute_result"
    }
   ],
   "source": [
    "# получение значения аттрибута jsmodel блока body\n",
    "body.get_attribute('jsmodel')"
   ]
  },
  {
   "cell_type": "code",
   "execution_count": 16,
   "metadata": {},
   "outputs": [
    {
     "data": {
      "text/plain": [
       "'ПочтаКартинки\\nВойти\\nРоссия\\nВсё о Google\\nРеклама\\nДля бизнеса\\nКак работает Google Поиск\\nНаше третье десятилетие борьбы с изменением климата\\nКонфиденциальность\\nУсловия\\nНастройки'"
      ]
     },
     "execution_count": 16,
     "metadata": {},
     "output_type": "execute_result"
    }
   ],
   "source": [
    "# получения текста блока body\n",
    "body.text"
   ]
  },
  {
   "cell_type": "code",
   "execution_count": 17,
   "metadata": {},
   "outputs": [
    {
     "data": {
      "text/plain": [
       "[<selenium.webdriver.remote.webelement.WebElement (session=\"45345193-fe8d-46aa-9e8b-f4000d94d3ed\", element=\"f45e7202-7f72-414b-9e59-192afbfcfd81\")>,\n",
       " <selenium.webdriver.remote.webelement.WebElement (session=\"45345193-fe8d-46aa-9e8b-f4000d94d3ed\", element=\"568f2c79-c3da-474f-8132-a8fc1cca1309\")>,\n",
       " <selenium.webdriver.remote.webelement.WebElement (session=\"45345193-fe8d-46aa-9e8b-f4000d94d3ed\", element=\"561d8ef8-a929-42ef-9ed9-d33b2dbb944f\")>,\n",
       " <selenium.webdriver.remote.webelement.WebElement (session=\"45345193-fe8d-46aa-9e8b-f4000d94d3ed\", element=\"c9c8b0ca-0eba-421d-a73c-fa73f3660cd6\")>,\n",
       " <selenium.webdriver.remote.webelement.WebElement (session=\"45345193-fe8d-46aa-9e8b-f4000d94d3ed\", element=\"4bf27d85-9f3d-44a9-9432-d875783dd08e\")>,\n",
       " <selenium.webdriver.remote.webelement.WebElement (session=\"45345193-fe8d-46aa-9e8b-f4000d94d3ed\", element=\"0aaf2cfe-dfd6-41a7-b549-14eea004e87b\")>,\n",
       " <selenium.webdriver.remote.webelement.WebElement (session=\"45345193-fe8d-46aa-9e8b-f4000d94d3ed\", element=\"95cb41e4-7374-45c1-bbfc-44328647323b\")>,\n",
       " <selenium.webdriver.remote.webelement.WebElement (session=\"45345193-fe8d-46aa-9e8b-f4000d94d3ed\", element=\"b894821d-9bbe-40e4-80b1-97bdfb49ae78\")>,\n",
       " <selenium.webdriver.remote.webelement.WebElement (session=\"45345193-fe8d-46aa-9e8b-f4000d94d3ed\", element=\"6625d067-3614-426a-93f6-f867d426bc01\")>]"
      ]
     },
     "execution_count": 17,
     "metadata": {},
     "output_type": "execute_result"
    }
   ],
   "source": [
    "# поиск множества элементов на странице\n",
    "elements = parser.find_all('//input')\n",
    "elements"
   ]
  },
  {
   "cell_type": "code",
   "execution_count": 18,
   "metadata": {},
   "outputs": [
    {
     "data": {
      "text/plain": [
       "['da807280-beed-45c8-9a35-3aedfad171fc']"
      ]
     },
     "execution_count": 18,
     "metadata": {},
     "output_type": "execute_result"
    }
   ],
   "source": [
    "# просмотр всех активных вкладок/окон\n",
    "active_windows = parser.windows()\n",
    "active_windows"
   ]
  },
  {
   "cell_type": "code",
   "execution_count": 12,
   "metadata": {},
   "outputs": [],
   "source": [
    "# переключение на одну из вкладок/окон\n",
    "parser.switch_to_window(active_windows[0])"
   ]
  },
  {
   "cell_type": "code",
   "execution_count": 20,
   "metadata": {},
   "outputs": [],
   "source": [
    "# ввод символов в форму\n",
    "textarea = parser.find('//textarea[@title=\"Поиск\"]')\n",
    "parser.write(textarea, 'что такое ', clear=True)\n",
    "parser.write(textarea, DynamicParserKeys.ARROW_D)\n",
    "parser.write(textarea, ' подскажите')\n",
    "parser.write(textarea, DynamicParserKeys.ENTER, sleep_range=(1400, 1600))"
   ]
  },
  {
   "cell_type": "code",
   "execution_count": 21,
   "metadata": {},
   "outputs": [
    {
     "data": {
      "text/plain": [
       "True"
      ]
     },
     "execution_count": 21,
     "metadata": {},
     "output_type": "execute_result"
    }
   ],
   "source": [
    "# клик по элементу на странице\n",
    "show_keyboard_button = parser.find('//span[@class=\"ly0Ckb\"]')\n",
    "parser.click(show_keyboard_button, attempts_number=42)"
   ]
  },
  {
   "cell_type": "markdown",
   "metadata": {},
   "source": [
    "### Остановка динамического парсера"
   ]
  },
  {
   "cell_type": "code",
   "execution_count": 28,
   "metadata": {},
   "outputs": [],
   "source": [
    "parser.close_connection()"
   ]
  },
  {
   "cell_type": "code",
   "execution_count": null,
   "metadata": {},
   "outputs": [],
   "source": []
  }
 ],
 "metadata": {
  "kernelspec": {
   "display_name": "Python 3",
   "language": "python",
   "name": "python3"
  },
  "language_info": {
   "codemirror_mode": {
    "name": "ipython",
    "version": 3
   },
   "file_extension": ".py",
   "mimetype": "text/x-python",
   "name": "python",
   "nbconvert_exporter": "python",
   "pygments_lexer": "ipython3",
   "version": "3.11.9"
  }
 },
 "nbformat": 4,
 "nbformat_minor": 2
}
