{
 "cells": [
  {
   "cell_type": "markdown",
   "metadata": {},
   "source": [
    "# Демо динамического парсера\n",
    "\n",
    "[инструкция](../documentation/users/dynamic_parser.md) по работе с динамическим парсером"
   ]
  },
  {
   "cell_type": "code",
   "execution_count": 21,
   "metadata": {},
   "outputs": [],
   "source": [
    "import sys\n",
    "sys.path.append('/Users/ekertn7/Downloads/Projects/SberMegaParser')\n",
    "from SberMegaParser import DynamicParser, DynamicParserType, DynamicParserKeys\n",
    "from SberMegaParser import generate_user_agent, UserAgentBrowsers, UserAgentOperatingSystems, UserAgentPlatforms"
   ]
  },
  {
   "cell_type": "markdown",
   "metadata": {},
   "source": [
    "### Инициализация динамического парсера"
   ]
  },
  {
   "cell_type": "code",
   "execution_count": 37,
   "metadata": {},
   "outputs": [],
   "source": [
    "parser = DynamicParser(\n",
    "    DynamicParserType.firefox,  # выбираем firefox в качестве браузера\n",
    "    window_width=300,\n",
    "    window_height=700,\n",
    "    headless=False,             # можно установить это значение = True и тогда\n",
    "                                # браузер запустится в скрытом режиме, вы не\n",
    "                                # увидите окошко, но все будет работать\n",
    "    driver_path='/geckodriver', # можно указать свой путь для вебдрайвера,\n",
    "                                # однако если вебдрайвер находится в корне\n",
    "                                # проекта, то все будет работать и без указания\n",
    "                                # этого параметра\n",
    "    user_agent = generate_user_agent(\n",
    "        browsers=[UserAgentBrowsers.CHROME, UserAgentBrowsers.FIREFOX],\n",
    "        operating_systems=UserAgentOperatingSystems.WINDOWS,\n",
    "        platforms=UserAgentPlatforms.PC\n",
    "    ),                          # если сайт не пускает вас, можно подменить\n",
    "                                # свой user agent с помощью такой функции,\n",
    "                                # при этом параметры указывать не обязательно,\n",
    "                                # они нужны только чтобы сузить варианты\n",
    "                                # рандомизации user agents\n",
    ")"
   ]
  },
  {
   "cell_type": "markdown",
   "metadata": {},
   "source": [
    "### Демонстрация работы динамического парсера"
   ]
  },
  {
   "cell_type": "code",
   "execution_count": 38,
   "metadata": {},
   "outputs": [],
   "source": [
    "# откроем соединение\n",
    "parser.open_connection()"
   ]
  },
  {
   "cell_type": "code",
   "execution_count": null,
   "metadata": {},
   "outputs": [],
   "source": [
    "# посмотрим на свой user agent\n",
    "parser.get('https://whatmyuseragent.com')\n",
    "# от отличается от того, что установлен изначально у вас на компьютере\n",
    "# можно проверить это открыв рядом окно своего браузера"
   ]
  },
  {
   "cell_type": "code",
   "execution_count": 5,
   "metadata": {},
   "outputs": [
    {
     "ename": "DriverAlreadyInitializedException",
     "evalue": "Web driver object is already initialized! Please, close old connection using close_connection method and try again!",
     "output_type": "error",
     "traceback": [
      "\u001b[0;31m---------------------------------------------------------------------------\u001b[0m",
      "\u001b[0;31mDriverAlreadyInitializedException\u001b[0m         Traceback (most recent call last)",
      "Cell \u001b[0;32mIn[5], line 2\u001b[0m\n\u001b[1;32m      1\u001b[0m \u001b[38;5;66;03m# откроем соединение еще раз и получим ошибку\u001b[39;00m\n\u001b[0;32m----> 2\u001b[0m \u001b[43mparser\u001b[49m\u001b[38;5;241;43m.\u001b[39;49m\u001b[43mopen_connection\u001b[49m\u001b[43m(\u001b[49m\u001b[43m)\u001b[49m\n\u001b[1;32m      3\u001b[0m \u001b[38;5;66;03m# читаем ошибку, там написано в чем проблема\u001b[39;00m\n\u001b[1;32m      4\u001b[0m \u001b[38;5;66;03m# в данном случае мы попытались открыть соединение, которое ранее было открыто\u001b[39;00m\n\u001b[1;32m      5\u001b[0m \u001b[38;5;66;03m# мы не можем так сделать\u001b[39;00m\n\u001b[1;32m      6\u001b[0m \u001b[38;5;66;03m# нам нужно либо создать объект DynamicParser еще раз и в нем уже открыть\u001b[39;00m\n\u001b[1;32m      7\u001b[0m \u001b[38;5;66;03m# новое соединение, либо \u001b[39;00m\n",
      "File \u001b[0;32m~/Downloads/Projects/SberMegaParser/SberMegaParser/core/dynamic_parser/dynamic_parser.py:66\u001b[0m, in \u001b[0;36mDynamicParser.open_connection\u001b[0;34m(self)\u001b[0m\n\u001b[1;32m     64\u001b[0m \u001b[38;5;250m\u001b[39m\u001b[38;5;124;03m\"\"\"Create web driver object.\"\"\"\u001b[39;00m\n\u001b[1;32m     65\u001b[0m \u001b[38;5;28;01mif\u001b[39;00m \u001b[38;5;28mself\u001b[39m\u001b[38;5;241m.\u001b[39m__driver \u001b[38;5;129;01mis\u001b[39;00m \u001b[38;5;129;01mnot\u001b[39;00m \u001b[38;5;28;01mNone\u001b[39;00m:\n\u001b[0;32m---> 66\u001b[0m     \u001b[38;5;28;01mraise\u001b[39;00m DriverAlreadyInitializedException()\n\u001b[1;32m     67\u001b[0m \u001b[38;5;28;01mmatch\u001b[39;00m \u001b[38;5;28mtype\u001b[39m(\u001b[38;5;28mself\u001b[39m\u001b[38;5;241m.\u001b[39mparser_type):\n\u001b[1;32m     68\u001b[0m     \u001b[38;5;28;01mcase\u001b[39;00m DynamicParserType\u001b[38;5;241m.\u001b[39mchrome:\n",
      "\u001b[0;31mDriverAlreadyInitializedException\u001b[0m: Web driver object is already initialized! Please, close old connection using close_connection method and try again!"
     ]
    }
   ],
   "source": [
    "# откроем соединение еще раз и получим ошибку\n",
    "parser.open_connection()\n",
    "# читаем ошибку, там написано в чем проблема\n",
    "# в данном случае мы попытались открыть соединение, которое ранее уже было\n",
    "# открыто, мы не можем так делать\n",
    "# нам нужно либо создать объект DynamicParser еще раз и в нем уже открыть\n",
    "# новое соединение, либо закрыть текущее соединение и открыть его заново"
   ]
  },
  {
   "cell_type": "code",
   "execution_count": 6,
   "metadata": {},
   "outputs": [],
   "source": [
    "# откроем сайт google для тестирования\n",
    "parser.get('https://google.com')"
   ]
  },
  {
   "cell_type": "code",
   "execution_count": 7,
   "metadata": {},
   "outputs": [],
   "source": [
    "# ожидаем, что элемент прогрузился и находится на странице\n",
    "# если все ок, то функция просто выполнится и не будет сообщения об ошибке\n",
    "# если нет, то будет выведено сообщение об ошибке\n",
    "parser.wait_until_element_located('//input[@class=\"RNmpXc\"]', waiting_time=10)"
   ]
  },
  {
   "cell_type": "code",
   "execution_count": 8,
   "metadata": {},
   "outputs": [],
   "source": [
    "# ожидаем, что элемент прогрузился, находится на странице и его видно\n",
    "# если все ок, то функция просто выполнится и не будет сообщения об ошибке\n",
    "# если нет, то будет выведено сообщение об ошибке\n",
    "parser.wait_until_element_visible('//img[contains(@alt, \"Google\")]')"
   ]
  },
  {
   "cell_type": "code",
   "execution_count": 9,
   "metadata": {},
   "outputs": [
    {
     "data": {
      "text/plain": [
       "<selenium.webdriver.remote.webelement.WebElement (session=\"bd617b26-6ce7-412f-803d-7cb304291bf7\", element=\"f4754141-c110-4394-b4df-391fb3384deb\")>"
      ]
     },
     "execution_count": 9,
     "metadata": {},
     "output_type": "execute_result"
    }
   ],
   "source": [
    "# поиск одного элемента на странице\n",
    "# возвращает объект элемента\n",
    "body = parser.find('//body')\n",
    "body"
   ]
  },
  {
   "cell_type": "code",
   "execution_count": 12,
   "metadata": {},
   "outputs": [
    {
     "ename": "NoSuchElementException",
     "evalue": "Message: Unable to locate element: //body/lsdkf\nStacktrace:\nRemoteError@chrome://remote/content/shared/RemoteError.sys.mjs:8:8\nWebDriverError@chrome://remote/content/shared/webdriver/Errors.sys.mjs:189:5\nNoSuchElementError@chrome://remote/content/shared/webdriver/Errors.sys.mjs:507:5\ndom.find/</<@chrome://remote/content/shared/DOM.sys.mjs:132:16\n",
     "output_type": "error",
     "traceback": [
      "\u001b[0;31m---------------------------------------------------------------------------\u001b[0m",
      "\u001b[0;31mNoSuchElementException\u001b[0m                    Traceback (most recent call last)",
      "Cell \u001b[0;32mIn[12], line 1\u001b[0m\n\u001b[0;32m----> 1\u001b[0m \u001b[43mparser\u001b[49m\u001b[38;5;241;43m.\u001b[39;49m\u001b[43mfind\u001b[49m\u001b[43m(\u001b[49m\u001b[38;5;124;43m'\u001b[39;49m\u001b[38;5;124;43m//body/lsdkf\u001b[39;49m\u001b[38;5;124;43m'\u001b[39;49m\u001b[43m)\u001b[49m\n",
      "File \u001b[0;32m~/Downloads/Projects/SberMegaParser/SberMegaParser/core/dynamic_parser/dynamic_parser.py:122\u001b[0m, in \u001b[0;36mDynamicParser.find\u001b[0;34m(self, element_xpath, sleep_range)\u001b[0m\n\u001b[1;32m    120\u001b[0m     \u001b[38;5;28;01mraise\u001b[39;00m DriverIsNotInitializedException()\n\u001b[1;32m    121\u001b[0m sleep_random(sleep_range)\n\u001b[0;32m--> 122\u001b[0m \u001b[38;5;28;01mreturn\u001b[39;00m \u001b[38;5;28;43mself\u001b[39;49m\u001b[38;5;241;43m.\u001b[39;49m\u001b[43m__driver\u001b[49m\u001b[38;5;241;43m.\u001b[39;49m\u001b[43mfind_element\u001b[49m\u001b[43m(\u001b[49m\u001b[43mBy\u001b[49m\u001b[38;5;241;43m.\u001b[39;49m\u001b[43mXPATH\u001b[49m\u001b[43m,\u001b[49m\u001b[43m \u001b[49m\u001b[43melement_xpath\u001b[49m\u001b[43m)\u001b[49m\n",
      "File \u001b[0;32m/opt/homebrew/lib/python3.11/site-packages/selenium/webdriver/remote/webdriver.py:831\u001b[0m, in \u001b[0;36mWebDriver.find_element\u001b[0;34m(self, by, value)\u001b[0m\n\u001b[1;32m    828\u001b[0m     by \u001b[38;5;241m=\u001b[39m By\u001b[38;5;241m.\u001b[39mCSS_SELECTOR\n\u001b[1;32m    829\u001b[0m     value \u001b[38;5;241m=\u001b[39m \u001b[38;5;124mf\u001b[39m\u001b[38;5;124m'\u001b[39m\u001b[38;5;124m[name=\u001b[39m\u001b[38;5;124m\"\u001b[39m\u001b[38;5;132;01m{\u001b[39;00mvalue\u001b[38;5;132;01m}\u001b[39;00m\u001b[38;5;124m\"\u001b[39m\u001b[38;5;124m]\u001b[39m\u001b[38;5;124m'\u001b[39m\n\u001b[0;32m--> 831\u001b[0m \u001b[38;5;28;01mreturn\u001b[39;00m \u001b[38;5;28;43mself\u001b[39;49m\u001b[38;5;241;43m.\u001b[39;49m\u001b[43mexecute\u001b[49m\u001b[43m(\u001b[49m\u001b[43mCommand\u001b[49m\u001b[38;5;241;43m.\u001b[39;49m\u001b[43mFIND_ELEMENT\u001b[49m\u001b[43m,\u001b[49m\u001b[43m \u001b[49m\u001b[43m{\u001b[49m\u001b[38;5;124;43m\"\u001b[39;49m\u001b[38;5;124;43musing\u001b[39;49m\u001b[38;5;124;43m\"\u001b[39;49m\u001b[43m:\u001b[49m\u001b[43m \u001b[49m\u001b[43mby\u001b[49m\u001b[43m,\u001b[49m\u001b[43m \u001b[49m\u001b[38;5;124;43m\"\u001b[39;49m\u001b[38;5;124;43mvalue\u001b[39;49m\u001b[38;5;124;43m\"\u001b[39;49m\u001b[43m:\u001b[49m\u001b[43m \u001b[49m\u001b[43mvalue\u001b[49m\u001b[43m}\u001b[49m\u001b[43m)\u001b[49m[\u001b[38;5;124m\"\u001b[39m\u001b[38;5;124mvalue\u001b[39m\u001b[38;5;124m\"\u001b[39m]\n",
      "File \u001b[0;32m/opt/homebrew/lib/python3.11/site-packages/selenium/webdriver/remote/webdriver.py:440\u001b[0m, in \u001b[0;36mWebDriver.execute\u001b[0;34m(self, driver_command, params)\u001b[0m\n\u001b[1;32m    438\u001b[0m response \u001b[38;5;241m=\u001b[39m \u001b[38;5;28mself\u001b[39m\u001b[38;5;241m.\u001b[39mcommand_executor\u001b[38;5;241m.\u001b[39mexecute(driver_command, params)\n\u001b[1;32m    439\u001b[0m \u001b[38;5;28;01mif\u001b[39;00m response:\n\u001b[0;32m--> 440\u001b[0m     \u001b[38;5;28;43mself\u001b[39;49m\u001b[38;5;241;43m.\u001b[39;49m\u001b[43merror_handler\u001b[49m\u001b[38;5;241;43m.\u001b[39;49m\u001b[43mcheck_response\u001b[49m\u001b[43m(\u001b[49m\u001b[43mresponse\u001b[49m\u001b[43m)\u001b[49m\n\u001b[1;32m    441\u001b[0m     response[\u001b[38;5;124m\"\u001b[39m\u001b[38;5;124mvalue\u001b[39m\u001b[38;5;124m\"\u001b[39m] \u001b[38;5;241m=\u001b[39m \u001b[38;5;28mself\u001b[39m\u001b[38;5;241m.\u001b[39m_unwrap_value(response\u001b[38;5;241m.\u001b[39mget(\u001b[38;5;124m\"\u001b[39m\u001b[38;5;124mvalue\u001b[39m\u001b[38;5;124m\"\u001b[39m, \u001b[38;5;28;01mNone\u001b[39;00m))\n\u001b[1;32m    442\u001b[0m     \u001b[38;5;28;01mreturn\u001b[39;00m response\n",
      "File \u001b[0;32m/opt/homebrew/lib/python3.11/site-packages/selenium/webdriver/remote/errorhandler.py:245\u001b[0m, in \u001b[0;36mErrorHandler.check_response\u001b[0;34m(self, response)\u001b[0m\n\u001b[1;32m    243\u001b[0m         alert_text \u001b[38;5;241m=\u001b[39m value[\u001b[38;5;124m\"\u001b[39m\u001b[38;5;124malert\u001b[39m\u001b[38;5;124m\"\u001b[39m]\u001b[38;5;241m.\u001b[39mget(\u001b[38;5;124m\"\u001b[39m\u001b[38;5;124mtext\u001b[39m\u001b[38;5;124m\"\u001b[39m)\n\u001b[1;32m    244\u001b[0m     \u001b[38;5;28;01mraise\u001b[39;00m exception_class(message, screen, stacktrace, alert_text)  \u001b[38;5;66;03m# type: ignore[call-arg]  # mypy is not smart enough here\u001b[39;00m\n\u001b[0;32m--> 245\u001b[0m \u001b[38;5;28;01mraise\u001b[39;00m exception_class(message, screen, stacktrace)\n",
      "\u001b[0;31mNoSuchElementException\u001b[0m: Message: Unable to locate element: //body/lsdkf\nStacktrace:\nRemoteError@chrome://remote/content/shared/RemoteError.sys.mjs:8:8\nWebDriverError@chrome://remote/content/shared/webdriver/Errors.sys.mjs:189:5\nNoSuchElementError@chrome://remote/content/shared/webdriver/Errors.sys.mjs:507:5\ndom.find/</<@chrome://remote/content/shared/DOM.sys.mjs:132:16\n"
     ]
    }
   ],
   "source": [
    "# или возвращает ошибку если такого элемента нет\n",
    "parser.find('//body/lsdkf')"
   ]
  },
  {
   "cell_type": "code",
   "execution_count": 13,
   "metadata": {},
   "outputs": [
    {
     "data": {
      "text/plain": [
       "'hspDDf '"
      ]
     },
     "execution_count": 13,
     "metadata": {},
     "output_type": "execute_result"
    }
   ],
   "source": [
    "# получим значение аттрибута jsmodel блока body\n",
    "body.get_attribute('jsmodel')\n",
    "# получать эти значения может быть полезно, например, если нужно извлечь href\n",
    "# из ссылки, value из формы или дополнительную информацию объекта"
   ]
  },
  {
   "cell_type": "code",
   "execution_count": 14,
   "metadata": {},
   "outputs": [
    {
     "data": {
      "text/plain": [
       "'ПочтаКартинки\\nВойти\\nРоссия\\nВсё о Google\\nРеклама\\nДля бизнеса\\nКак работает Google Поиск\\nНаше третье десятилетие борьбы с изменением климата\\nКонфиденциальность\\nУсловия\\nНастройки'"
      ]
     },
     "execution_count": 14,
     "metadata": {},
     "output_type": "execute_result"
    }
   ],
   "source": [
    "# получим текст из блока body\n",
    "body.text"
   ]
  },
  {
   "cell_type": "code",
   "execution_count": 15,
   "metadata": {},
   "outputs": [
    {
     "data": {
      "text/plain": [
       "[<selenium.webdriver.remote.webelement.WebElement (session=\"bd617b26-6ce7-412f-803d-7cb304291bf7\", element=\"0c3fca51-dd07-4210-af2a-c903e6e1406e\")>,\n",
       " <selenium.webdriver.remote.webelement.WebElement (session=\"bd617b26-6ce7-412f-803d-7cb304291bf7\", element=\"bcc2d3dd-364d-4dc9-99da-220b2f4f836e\")>,\n",
       " <selenium.webdriver.remote.webelement.WebElement (session=\"bd617b26-6ce7-412f-803d-7cb304291bf7\", element=\"0fdc2e42-5f42-42d6-9941-d941941d5ce4\")>,\n",
       " <selenium.webdriver.remote.webelement.WebElement (session=\"bd617b26-6ce7-412f-803d-7cb304291bf7\", element=\"0d1011c5-761e-4de5-be03-1b1966aa7b7c\")>,\n",
       " <selenium.webdriver.remote.webelement.WebElement (session=\"bd617b26-6ce7-412f-803d-7cb304291bf7\", element=\"832d87cf-d9e5-4d68-ae4d-656be55e7974\")>,\n",
       " <selenium.webdriver.remote.webelement.WebElement (session=\"bd617b26-6ce7-412f-803d-7cb304291bf7\", element=\"8c887d87-c71d-4779-9f51-6ce8bede5d68\")>,\n",
       " <selenium.webdriver.remote.webelement.WebElement (session=\"bd617b26-6ce7-412f-803d-7cb304291bf7\", element=\"f69c83a4-accb-46ce-916f-cd69d009a291\")>,\n",
       " <selenium.webdriver.remote.webelement.WebElement (session=\"bd617b26-6ce7-412f-803d-7cb304291bf7\", element=\"30d56342-b8e4-434a-9c21-151acf4a65b7\")>,\n",
       " <selenium.webdriver.remote.webelement.WebElement (session=\"bd617b26-6ce7-412f-803d-7cb304291bf7\", element=\"95fd068c-44a7-4ff0-8225-a327b141dc93\")>]"
      ]
     },
     "execution_count": 15,
     "metadata": {},
     "output_type": "execute_result"
    }
   ],
   "source": [
    "# поиск множества элементов на странице\n",
    "elements = parser.find_all('//input')\n",
    "elements"
   ]
  },
  {
   "cell_type": "code",
   "execution_count": 16,
   "metadata": {},
   "outputs": [
    {
     "data": {
      "text/plain": [
       "['cf097bf1-87f5-424e-a85a-070b91c61f8e']"
      ]
     },
     "execution_count": 16,
     "metadata": {},
     "output_type": "execute_result"
    }
   ],
   "source": [
    "# просмотр всех активных вкладок/окон\n",
    "active_windows = parser.windows()\n",
    "active_windows"
   ]
  },
  {
   "cell_type": "code",
   "execution_count": 17,
   "metadata": {},
   "outputs": [],
   "source": [
    "# переключение на одну из вкладок/окон\n",
    "parser.switch_to_window(active_windows[0])"
   ]
  },
  {
   "cell_type": "code",
   "execution_count": 18,
   "metadata": {},
   "outputs": [
    {
     "data": {
      "text/plain": [
       "True"
      ]
     },
     "execution_count": 18,
     "metadata": {},
     "output_type": "execute_result"
    }
   ],
   "source": [
    "# клик по элементу на странице\n",
    "# в данном случае кликаем на блок клавиатуры\n",
    "show_keyboard_button = parser.find('//span[@class=\"ly0Ckb\"]')\n",
    "parser.click(show_keyboard_button, attempts_number=42)"
   ]
  },
  {
   "cell_type": "code",
   "execution_count": 19,
   "metadata": {},
   "outputs": [],
   "source": [
    "# ввод символов в форму\n",
    "# попробуем что-нибудь найти\n",
    "textarea = parser.find('//textarea[@title=\"Поиск\"]')\n",
    "parser.write(textarea, 'что такое ', clear=True)\n",
    "# параметр clear = True очищает поле от ранее введенного контента\n",
    "# если что-то пошло не так и поле не очистилось, то можно сделать, например,\n",
    "# так: parser.write(textarea, DynamicParserKeys.BACKSPACE*100)\n",
    "parser.write(textarea, DynamicParserKeys.ARROW_D)\n",
    "parser.write(textarea, ' подскажите')\n",
    "# обратите внимание на дополнительные задержки, иногда они необходимы для\n",
    "# корректной работы динамического сайта, их подбирают эмпирическим путем\n",
    "# (методом проб и ошибок)\n",
    "parser.write(textarea, DynamicParserKeys.ENTER, sleep_range=(1400, 1600))"
   ]
  },
  {
   "cell_type": "markdown",
   "metadata": {},
   "source": [
    "### Остановка динамического парсера"
   ]
  },
  {
   "cell_type": "code",
   "execution_count": 39,
   "metadata": {},
   "outputs": [],
   "source": [
    "# закроем текущее соединение\n",
    "parser.close_connection()\n",
    "# при желании теперь можно еще раз открыть соединение"
   ]
  },
  {
   "cell_type": "code",
   "execution_count": null,
   "metadata": {},
   "outputs": [],
   "source": []
  }
 ],
 "metadata": {
  "kernelspec": {
   "display_name": "Python 3",
   "language": "python",
   "name": "python3"
  },
  "language_info": {
   "codemirror_mode": {
    "name": "ipython",
    "version": 3
   },
   "file_extension": ".py",
   "mimetype": "text/x-python",
   "name": "python",
   "nbconvert_exporter": "python",
   "pygments_lexer": "ipython3",
   "version": "3.11.9"
  }
 },
 "nbformat": 4,
 "nbformat_minor": 2
}
